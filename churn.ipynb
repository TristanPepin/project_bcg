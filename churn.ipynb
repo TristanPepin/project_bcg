{
 "cells": [
  {
   "cell_type": "code",
   "execution_count": 2,
   "metadata": {},
   "outputs": [],
   "source": [
    "%load_ext autoreload\n",
    "%autoreload 2\n",
    "\n",
    "import src"
   ]
  },
  {
   "cell_type": "code",
   "execution_count": 3,
   "metadata": {},
   "outputs": [],
   "source": [
    "df = src.generate_df()"
   ]
  },
  {
   "cell_type": "code",
   "execution_count": 31,
   "metadata": {},
   "outputs": [
    {
     "name": "stdout",
     "output_type": "stream",
     "text": [
      "Generating churn labels...\n"
     ]
    },
    {
     "name": "stderr",
     "output_type": "stream",
     "text": [
      "100%|██████████| 170589/170589 [00:00<00:00, 173846.84it/s]\n"
     ]
    },
    {
     "name": "stdout",
     "output_type": "stream",
     "text": [
      "Generating new model...\n",
      "Epoch 1/10\n",
      "3999/3999 [==============================] - 9s 2ms/step - loss: 6.0214 - val_loss: 1.3225\n",
      "Epoch 2/10\n",
      "3999/3999 [==============================] - 8s 2ms/step - loss: 1.2769 - val_loss: 1.0333\n",
      "Epoch 3/10\n",
      "3999/3999 [==============================] - 11s 3ms/step - loss: 0.8835 - val_loss: 0.7374\n",
      "Epoch 4/10\n",
      "3999/3999 [==============================] - 11s 3ms/step - loss: 0.6597 - val_loss: 0.5514\n",
      "Epoch 5/10\n",
      "3999/3999 [==============================] - 11s 3ms/step - loss: 0.5352 - val_loss: 0.4713\n",
      "Epoch 6/10\n",
      "3999/3999 [==============================] - 12s 3ms/step - loss: 0.4812 - val_loss: 0.4502\n",
      "Epoch 7/10\n",
      "3999/3999 [==============================] - 12s 3ms/step - loss: 0.4626 - val_loss: 0.4369\n",
      "Epoch 8/10\n",
      "3999/3999 [==============================] - 11s 3ms/step - loss: 0.4509 - val_loss: 0.4272\n",
      "Epoch 9/10\n",
      "3999/3999 [==============================] - 11s 3ms/step - loss: 0.4451 - val_loss: 0.4222\n",
      "Epoch 10/10\n",
      "3999/3999 [==============================] - 12s 3ms/step - loss: 0.4458 - val_loss: 0.4251\n",
      "F1 score : 0.698779606888948\n",
      "Accuracy score : 0.8142234102419809\n",
      "Recall score : 0.7057829659780355\n",
      "Precision score : 0.6919138683933143\n"
     ]
    },
    {
     "data": {
      "image/png": "[encoded data removed]",
      "text/plain": [
       "<Figure size 432x288 with 1 Axes>"
      ]
     },
     "metadata": {
      "needs_background": "light"
     },
     "output_type": "display_data"
    },
    {
     "name": "stdout",
     "output_type": "stream",
     "text": [
      "Epoch 1/5\n",
      "5331/5331 [==============================] - 13s 2ms/step - loss: 0.4429\n",
      "Epoch 2/5\n",
      "5331/5331 [==============================] - 13s 2ms/step - loss: 0.4367\n",
      "Epoch 3/5\n",
      "5331/5331 [==============================] - 13s 2ms/step - loss: 0.4347\n",
      "Epoch 4/5\n",
      "5331/5331 [==============================] - 12s 2ms/step - loss: 0.4313\n",
      "Epoch 5/5\n",
      "5331/5331 [==============================] - 12s 2ms/step - loss: 0.4315\n",
      "INFO:tensorflow:Assets written to: ./models/churn_model\\assets\n"
     ]
    },
    {
     "data": {
      "text/plain": [
       "<Figure size 432x288 with 0 Axes>"
      ]
     },
     "metadata": {},
     "output_type": "display_data"
    }
   ],
   "source": [
    "model = src.fit_churn_model(df,epochs=10)"
   ]
  },
  {
   "cell_type": "code",
   "execution_count": 2,
   "metadata": {},
   "outputs": [
    {
     "name": "stdout",
     "output_type": "stream",
     "text": [
      "Model: \"sequential_4\"\n",
      "_________________________________________________________________\n",
      " Layer (type)                Output Shape              Param #   \n",
      "=================================================================\n",
      " conv1d_8 (Conv1D)           (None, 5, 32)             224       \n",
      "                                                                 \n",
      " dropout_16 (Dropout)        (None, 5, 32)             0         \n",
      "                                                                 \n",
      " conv1d_9 (Conv1D)           (None, 3, 32)             3104      \n",
      "                                                                 \n",
      " dropout_17 (Dropout)        (None, 3, 32)             0         \n",
      "                                                                 \n",
      " flatten_4 (Flatten)         (None, 96)                0         \n",
      "                                                                 \n",
      " dense_16 (Dense)            (None, 32)                3104      \n",
      "                                                                 \n",
      " dropout_18 (Dropout)        (None, 32)                0         \n",
      "                                                                 \n",
      " dense_17 (Dense)            (None, 16)                528       \n",
      "                                                                 \n",
      " dropout_19 (Dropout)        (None, 16)                0         \n",
      "                                                                 \n",
      " dense_18 (Dense)            (None, 8)                 136       \n",
      "                                                                 \n",
      " dense_19 (Dense)            (None, 1)                 9         \n",
      "                                                                 \n",
      "=================================================================\n",
      "Total params: 7,105\n",
      "Trainable params: 7,105\n",
      "Non-trainable params: 0\n",
      "_________________________________________________________________\n",
      "None\n"
     ]
    }
   ],
   "source": [
    "src.print_info_model()"
   ]
  },
  {
   "cell_type": "code",
   "execution_count": 5,
   "metadata": {},
   "outputs": [
    {
     "name": "stdout",
     "output_type": "stream",
     "text": [
      "Generating churn labels...\n"
     ]
    },
    {
     "name": "stderr",
     "output_type": "stream",
     "text": [
      "100%|██████████| 170589/170589 [00:01<00:00, 148596.94it/s]\n"
     ]
    },
    {
     "name": "stdout",
     "output_type": "stream",
     "text": [
      "X shape : (170589, 7, 2)\n"
     ]
    },
    {
     "data": {
      "image/png": "[encoded data removed]",
      "text/plain": [
       "<Figure size 432x288 with 1 Axes>"
      ]
     },
     "metadata": {
      "needs_background": "light"
     },
     "output_type": "display_data"
    },
    {
     "name": "stdout",
     "output_type": "stream",
     "text": [
      "AUC : 0.8817871041151603\n",
      "Choosing threshold that maximizes f1 score...\n",
      "Generating churn labels...\n"
     ]
    },
    {
     "name": "stderr",
     "output_type": "stream",
     "text": [
      "100%|██████████| 170589/170589 [00:01<00:00, 105083.35it/s]\n"
     ]
    },
    {
     "name": "stdout",
     "output_type": "stream",
     "text": [
      "X shape : (170589, 7, 2)\n"
     ]
    },
    {
     "name": "stderr",
     "output_type": "stream",
     "text": [
      "Thresh 0.9: 100%|██████████| 10/10 [00:45<00:00,  4.50s/it]               \n"
     ]
    },
    {
     "data": {
      "image/png": "[encoded data removed]",
      "text/plain": [
       "<Figure size 432x288 with 1 Axes>"
      ]
     },
     "metadata": {
      "needs_background": "light"
     },
     "output_type": "display_data"
    },
    {
     "name": "stdout",
     "output_type": "stream",
     "text": [
      "F1 score : 0.719193007757712\n",
      "Accuracy score : 0.7922667932867887\n",
      "Recall score : 0.8713183057486271\n",
      "Precision score : 0.6122917088308709\n"
     ]
    },
    {
     "data": {
      "text/plain": [
       "<Figure size 432x288 with 0 Axes>"
      ]
     },
     "metadata": {},
     "output_type": "display_data"
    }
   ],
   "source": [
    "src.evaluate_model(df)"
   ]
  },
  {
   "cell_type": "code",
   "execution_count": 6,
   "metadata": {},
   "outputs": [
    {
     "data": {
      "text/plain": [
       "0        0.000000\n",
       "1        0.000000\n",
       "2        0.000000\n",
       "3     1562.219478\n",
       "4      462.551697\n",
       "5      572.473128\n",
       "6        0.000000\n",
       "7      563.099800\n",
       "8      332.043027\n",
       "9        0.000000\n",
       "10    2389.845871\n",
       "11       0.000000\n",
       "Name: sales_net, dtype: float64"
      ]
     },
     "execution_count": 6,
     "metadata": {},
     "output_type": "execute_result"
    }
   ],
   "source": [
    "df[df.client_id==6].sales_net"
   ]
  },
  {
   "cell_type": "code",
   "execution_count": null,
   "metadata": {},
   "outputs": [],
   "source": []
  }
 ],
 "metadata": {
  "interpreter": {
   "hash": "8714aa734682364d8708944b8e407a97176dc16799c667e4a9047caae3833205"
  },
  "kernelspec": {
   "display_name": "Python 3.9.7 ('dlcourse')",
   "language": "python",
   "name": "python3"
  },
  "language_info": {
   "codemirror_mode": {
    "name": "ipython",
    "version": 3
   },
   "file_extension": ".py",
   "mimetype": "text/x-python",
   "name": "python",
   "nbconvert_exporter": "python",
   "pygments_lexer": "ipython3",
   "version": "3.9.7"
  },
  "orig_nbformat": 4
 },
 "nbformat": 4,
 "nbformat_minor": 2
}
