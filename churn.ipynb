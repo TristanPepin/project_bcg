{
 "cells": [
  {
   "cell_type": "code",
   "execution_count": 7,
   "metadata": {},
   "outputs": [
    {
     "name": "stdout",
     "output_type": "stream",
     "text": [
      "The autoreload extension is already loaded. To reload it, use:\n",
      "  %reload_ext autoreload\n"
     ]
    }
   ],
   "source": [
    "%load_ext autoreload\n",
    "%autoreload 2\n",
    "\n",
    "import src"
   ]
  },
  {
   "cell_type": "code",
   "execution_count": 8,
   "metadata": {},
   "outputs": [],
   "source": [
    "df = src.generate_df()"
   ]
  },
  {
   "cell_type": "code",
   "execution_count": 9,
   "metadata": {},
   "outputs": [
    {
     "name": "stdout",
     "output_type": "stream",
     "text": [
      "Generating churn labels...\n"
     ]
    },
    {
     "name": "stderr",
     "output_type": "stream",
     "text": [
      "100%|██████████| 170589/170589 [00:00<00:00, 199608.80it/s]\n"
     ]
    },
    {
     "name": "stdout",
     "output_type": "stream",
     "text": [
      "X shape : (170589, 8, 2)\n",
      "Generating new model...\n",
      "Epoch 1/10\n",
      "3999/3999 [==============================] - 10s 2ms/step - loss: 13.6929 - val_loss: 1.4485\n",
      "Epoch 2/10\n",
      "3999/3999 [==============================] - 10s 2ms/step - loss: 1.3925 - val_loss: 1.1958\n",
      "Epoch 3/10\n",
      "3999/3999 [==============================] - 10s 3ms/step - loss: 1.0731 - val_loss: 0.8694\n",
      "Epoch 4/10\n",
      "3999/3999 [==============================] - 11s 3ms/step - loss: 0.7265 - val_loss: 0.5780\n",
      "Epoch 5/10\n",
      "3999/3999 [==============================] - 11s 3ms/step - loss: 0.5679 - val_loss: 0.5054\n",
      "Epoch 6/10\n",
      "3999/3999 [==============================] - 11s 3ms/step - loss: 0.5306 - val_loss: 0.4792\n",
      "Epoch 7/10\n",
      "3999/3999 [==============================] - 10s 3ms/step - loss: 0.5038 - val_loss: 0.4664\n",
      "Epoch 8/10\n",
      "3999/3999 [==============================] - 10s 3ms/step - loss: 0.4877 - val_loss: 0.4607\n",
      "Epoch 9/10\n",
      "3999/3999 [==============================] - 10s 3ms/step - loss: 0.4848 - val_loss: 0.4571\n",
      "Epoch 10/10\n",
      "3999/3999 [==============================] - 10s 3ms/step - loss: 0.4728 - val_loss: 0.4482\n",
      "F1 score : 0.7601005671519617\n",
      "Accuracy score : 0.8075876946163947\n",
      "Recall score : 0.7441753964165092\n",
      "Precision score : 0.7767222321801995\n"
     ]
    },
    {
     "data": {
      "image/png": "[encoded data removed]",
      "text/plain": [
       "<Figure size 432x288 with 1 Axes>"
      ]
     },
     "metadata": {
      "needs_background": "light"
     },
     "output_type": "display_data"
    },
    {
     "name": "stdout",
     "output_type": "stream",
     "text": [
      "Epoch 1/5\n",
      "5331/5331 [==============================] - 12s 2ms/step - loss: 0.4720\n",
      "Epoch 2/5\n",
      "5331/5331 [==============================] - 12s 2ms/step - loss: 0.4659\n",
      "Epoch 3/5\n",
      "5331/5331 [==============================] - 12s 2ms/step - loss: 0.4639\n",
      "Epoch 4/5\n",
      "5331/5331 [==============================] - 12s 2ms/step - loss: 0.4613\n",
      "Epoch 5/5\n",
      "5331/5331 [==============================] - 12s 2ms/step - loss: 0.4628\n",
      "INFO:tensorflow:Assets written to: ./models/churn_model\\assets\n"
     ]
    },
    {
     "data": {
      "text/plain": [
       "<Figure size 432x288 with 0 Axes>"
      ]
     },
     "metadata": {},
     "output_type": "display_data"
    }
   ],
   "source": [
    "model = src.fit_churn_model(df,epochs=10)"
   ]
  },
  {
   "cell_type": "code",
   "execution_count": 10,
   "metadata": {},
   "outputs": [
    {
     "name": "stdout",
     "output_type": "stream",
     "text": [
      "Model: \"sequential\"\n",
      "_________________________________________________________________\n",
      " Layer (type)                Output Shape              Param #   \n",
      "=================================================================\n",
      " conv1d (Conv1D)             (None, 6, 32)             224       \n",
      "                                                                 \n",
      " dropout (Dropout)           (None, 6, 32)             0         \n",
      "                                                                 \n",
      " conv1d_1 (Conv1D)           (None, 4, 32)             3104      \n",
      "                                                                 \n",
      " dropout_1 (Dropout)         (None, 4, 32)             0         \n",
      "                                                                 \n",
      " flatten (Flatten)           (None, 128)               0         \n",
      "                                                                 \n",
      " dense (Dense)               (None, 32)                4128      \n",
      "                                                                 \n",
      " dropout_2 (Dropout)         (None, 32)                0         \n",
      "                                                                 \n",
      " dense_1 (Dense)             (None, 16)                528       \n",
      "                                                                 \n",
      " dropout_3 (Dropout)         (None, 16)                0         \n",
      "                                                                 \n",
      " dense_2 (Dense)             (None, 8)                 136       \n",
      "                                                                 \n",
      " dense_3 (Dense)             (None, 1)                 9         \n",
      "                                                                 \n",
      "=================================================================\n",
      "Total params: 8,129\n",
      "Trainable params: 8,129\n",
      "Non-trainable params: 0\n",
      "_________________________________________________________________\n",
      "None\n"
     ]
    }
   ],
   "source": [
    "src.print_info_model()"
   ]
  },
  {
   "cell_type": "code",
   "execution_count": 11,
   "metadata": {},
   "outputs": [
    {
     "name": "stdout",
     "output_type": "stream",
     "text": [
      "Generating churn labels...\n"
     ]
    },
    {
     "name": "stderr",
     "output_type": "stream",
     "text": [
      "100%|██████████| 170589/170589 [00:01<00:00, 136663.81it/s]\n"
     ]
    },
    {
     "name": "stdout",
     "output_type": "stream",
     "text": [
      "X shape : (170589, 8, 2)\n"
     ]
    },
    {
     "data": {
      "image/png": "[encoded data removed]",
      "text/plain": [
       "<Figure size 432x288 with 1 Axes>"
      ]
     },
     "metadata": {
      "needs_background": "light"
     },
     "output_type": "display_data"
    },
    {
     "name": "stdout",
     "output_type": "stream",
     "text": [
      "AUC : 0.8895396757081133\n",
      "Choosing threshold that maximizes f1 score...\n",
      "Generating churn labels...\n"
     ]
    },
    {
     "name": "stderr",
     "output_type": "stream",
     "text": [
      "100%|██████████| 170589/170589 [00:01<00:00, 129000.84it/s]\n"
     ]
    },
    {
     "name": "stdout",
     "output_type": "stream",
     "text": [
      "X shape : (170589, 8, 2)\n"
     ]
    },
    {
     "name": "stderr",
     "output_type": "stream",
     "text": [
      "Thresh 0.9: 100%|██████████| 10/10 [00:43<00:00,  4.38s/it]               \n"
     ]
    },
    {
     "data": {
      "image/png": "[encoded data removed]",
      "text/plain": [
       "<Figure size 432x288 with 1 Axes>"
      ]
     },
     "metadata": {
      "needs_background": "light"
     },
     "output_type": "display_data"
    },
    {
     "name": "stdout",
     "output_type": "stream",
     "text": [
      "F1 score : 0.7826113720444933\n",
      "Accuracy score : 0.7929819624946509\n",
      "Recall score : 0.9097648591015127\n",
      "Precision score : 0.6866426148761045\n"
     ]
    }
   ],
   "source": [
    "src.evaluate_model(df)"
   ]
  }
 ],
 "metadata": {
  "interpreter": {
   "hash": "8714aa734682364d8708944b8e407a97176dc16799c667e4a9047caae3833205"
  },
  "kernelspec": {
   "display_name": "Python 3.9.7 ('dlcourse')",
   "language": "python",
   "name": "python3"
  },
  "language_info": {
   "codemirror_mode": {
    "name": "ipython",
    "version": 3
   },
   "file_extension": ".py",
   "mimetype": "text/x-python",
   "name": "python",
   "nbconvert_exporter": "python",
   "pygments_lexer": "ipython3",
   "version": "3.9.7"
  },
  "orig_nbformat": 4
 },
 "nbformat": 4,
 "nbformat_minor": 2
}
