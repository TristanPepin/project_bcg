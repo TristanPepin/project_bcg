{
 "cells": [
  {
   "cell_type": "code",
   "execution_count": 7,
   "metadata": {},
   "outputs": [
    {
     "name": "stdout",
     "output_type": "stream",
     "text": [
      "The autoreload extension is already loaded. To reload it, use:\n",
      "  %reload_ext autoreload\n"
     ]
    }
   ],
   "source": [
    "%load_ext autoreload\n",
    "%autoreload 2\n",
    "\n",
    "import src"
   ]
  },
  {
   "cell_type": "code",
   "execution_count": 8,
   "metadata": {},
   "outputs": [],
   "source": [
    "df = src.generate_df()"
   ]
  },
  {
   "cell_type": "code",
   "execution_count": 10,
   "metadata": {},
   "outputs": [
    {
     "name": "stdout",
     "output_type": "stream",
     "text": [
      "Generating churn labels...\n"
     ]
    },
    {
     "name": "stderr",
     "output_type": "stream",
     "text": [
      "100%|██████████| 170589/170589 [00:00<00:00, 182727.89it/s]\n"
     ]
    },
    {
     "name": "stdout",
     "output_type": "stream",
     "text": [
      "X shape : (170589, 8, 2)\n",
      "Generating new model...\n",
      "Epoch 1/10\n",
      "3999/3999 [==============================] - 10s 2ms/step - loss: 7.3449 - val_loss: 1.4075\n",
      "Epoch 2/10\n",
      "3999/3999 [==============================] - 9s 2ms/step - loss: 1.3427 - val_loss: 1.1551\n",
      "Epoch 3/10\n",
      "3999/3999 [==============================] - 10s 2ms/step - loss: 0.9986 - val_loss: 0.8455\n",
      "Epoch 4/10\n",
      "3999/3999 [==============================] - 9s 2ms/step - loss: 0.7707 - val_loss: 0.6428\n",
      "Epoch 5/10\n",
      "3999/3999 [==============================] - 9s 2ms/step - loss: 0.5786 - val_loss: 0.4851\n",
      "Epoch 6/10\n",
      "3999/3999 [==============================] - 7s 2ms/step - loss: 0.5176 - val_loss: 0.4790\n",
      "Epoch 7/10\n",
      "3999/3999 [==============================] - 7s 2ms/step - loss: 0.4944 - val_loss: 0.4656\n",
      "Epoch 8/10\n",
      "3999/3999 [==============================] - 7s 2ms/step - loss: 0.4797 - val_loss: 0.4569\n",
      "Epoch 9/10\n",
      "3999/3999 [==============================] - 7s 2ms/step - loss: 0.4749 - val_loss: 0.4479\n",
      "Epoch 10/10\n",
      "3999/3999 [==============================] - 7s 2ms/step - loss: 0.4719 - val_loss: 0.4483\n",
      "F1 score : 0.7640918580375783\n",
      "Accuracy score : 0.8065794410054399\n",
      "Recall score : 0.7647260862098575\n",
      "Precision score : 0.7634586809921133\n"
     ]
    },
    {
     "data": {
      "image/png": "[encoded data removed]",
      "text/plain": [
       "<Figure size 432x288 with 1 Axes>"
      ]
     },
     "metadata": {
      "needs_background": "light"
     },
     "output_type": "display_data"
    },
    {
     "name": "stdout",
     "output_type": "stream",
     "text": [
      "Epoch 1/5\n",
      "5331/5331 [==============================] - 9s 2ms/step - loss: 0.4651\n",
      "Epoch 2/5\n",
      "5331/5331 [==============================] - 9s 2ms/step - loss: 0.4672\n",
      "Epoch 3/5\n",
      "5331/5331 [==============================] - 8s 2ms/step - loss: 0.4590\n",
      "Epoch 4/5\n",
      "5331/5331 [==============================] - 10s 2ms/step - loss: 0.4586\n",
      "Epoch 5/5\n",
      "5331/5331 [==============================] - 12s 2ms/step - loss: 0.4547\n",
      "INFO:tensorflow:Assets written to: ./models/churn_model\\assets\n"
     ]
    },
    {
     "data": {
      "text/plain": [
       "<Figure size 432x288 with 0 Axes>"
      ]
     },
     "metadata": {},
     "output_type": "display_data"
    }
   ],
   "source": [
    "model = src.fit_churn_model(df,epochs=10)"
   ]
  },
  {
   "cell_type": "code",
   "execution_count": null,
   "metadata": {},
   "outputs": [
    {
     "name": "stdout",
     "output_type": "stream",
     "text": [
      "Model: \"sequential\"\n",
      "_________________________________________________________________\n",
      " Layer (type)                Output Shape              Param #   \n",
      "=================================================================\n",
      " conv1d (Conv1D)             (None, 6, 32)             224       \n",
      "                                                                 \n",
      " dropout (Dropout)           (None, 6, 32)             0         \n",
      "                                                                 \n",
      " conv1d_1 (Conv1D)           (None, 4, 32)             3104      \n",
      "                                                                 \n",
      " dropout_1 (Dropout)         (None, 4, 32)             0         \n",
      "                                                                 \n",
      " flatten (Flatten)           (None, 128)               0         \n",
      "                                                                 \n",
      " dense (Dense)               (None, 32)                4128      \n",
      "                                                                 \n",
      " dropout_2 (Dropout)         (None, 32)                0         \n",
      "                                                                 \n",
      " dense_1 (Dense)             (None, 16)                528       \n",
      "                                                                 \n",
      " dropout_3 (Dropout)         (None, 16)                0         \n",
      "                                                                 \n",
      " dense_2 (Dense)             (None, 8)                 136       \n",
      "                                                                 \n",
      " dense_3 (Dense)             (None, 1)                 9         \n",
      "                                                                 \n",
      "=================================================================\n",
      "Total params: 8,129\n",
      "Trainable params: 8,129\n",
      "Non-trainable params: 0\n",
      "_________________________________________________________________\n",
      "None\n"
     ]
    }
   ],
   "source": [
    "src.print_info_model()"
   ]
  },
  {
   "cell_type": "code",
   "execution_count": 11,
   "metadata": {},
   "outputs": [
    {
     "name": "stdout",
     "output_type": "stream",
     "text": [
      "Generating churn labels...\n"
     ]
    },
    {
     "name": "stderr",
     "output_type": "stream",
     "text": [
      "100%|██████████| 170589/170589 [00:00<00:00, 181055.26it/s]\n"
     ]
    },
    {
     "name": "stdout",
     "output_type": "stream",
     "text": [
      "X shape : (170589, 8, 2)\n"
     ]
    },
    {
     "data": {
      "image/png": "[encoded data removed]",
      "text/plain": [
       "<Figure size 432x288 with 1 Axes>"
      ]
     },
     "metadata": {
      "needs_background": "light"
     },
     "output_type": "display_data"
    },
    {
     "name": "stdout",
     "output_type": "stream",
     "text": [
      "AUC : 0.8791084423821347\n",
      "Choosing threshold that maximizes f1 score...\n",
      "Generating churn labels...\n"
     ]
    },
    {
     "name": "stderr",
     "output_type": "stream",
     "text": [
      "100%|██████████| 170589/170589 [00:01<00:00, 164141.12it/s]\n"
     ]
    },
    {
     "name": "stdout",
     "output_type": "stream",
     "text": [
      "X shape : (170589, 8, 2)\n"
     ]
    },
    {
     "name": "stderr",
     "output_type": "stream",
     "text": [
      "Thresh 0.9: 100%|██████████| 10/10 [00:32<00:00,  3.29s/it]               \n"
     ]
    },
    {
     "data": {
      "image/png": "[encoded data removed]",
      "text/plain": [
       "<Figure size 432x288 with 1 Axes>"
      ]
     },
     "metadata": {
      "needs_background": "light"
     },
     "output_type": "display_data"
    },
    {
     "name": "stdout",
     "output_type": "stream",
     "text": [
      "F1 score : 0.7841382599528088\n",
      "Accuracy score : 0.798357455638992\n",
      "Recall score : 0.8941508164813304\n",
      "Precision score : 0.6982308698130287\n"
     ]
    }
   ],
   "source": [
    "src.evaluate_model(df)"
   ]
  }
 ],
 "metadata": {
  "interpreter": {
   "hash": "8714aa734682364d8708944b8e407a97176dc16799c667e4a9047caae3833205"
  },
  "kernelspec": {
   "display_name": "Python 3.9.7 ('dlcourse')",
   "language": "python",
   "name": "python3"
  },
  "language_info": {
   "codemirror_mode": {
    "name": "ipython",
    "version": 3
   },
   "file_extension": ".py",
   "mimetype": "text/x-python",
   "name": "python",
   "nbconvert_exporter": "python",
   "pygments_lexer": "ipython3",
   "version": "3.9.7"
  },
  "orig_nbformat": 4
 },
 "nbformat": 4,
 "nbformat_minor": 2
}
